{
 "cells": [
  {
   "cell_type": "markdown",
   "id": "8e35b264-98c7-4c52-ba3e-41834172919e",
   "metadata": {},
   "source": [
    "# Pull political market data from Polymarket API"
   ]
  },
  {
   "cell_type": "code",
   "execution_count": 2,
   "id": "498f9f11-10fc-460a-ae44-86a0f6d35745",
   "metadata": {},
   "outputs": [],
   "source": [
    "import requests\n",
    "import pandas as pd\n",
    "import json\n",
    "import csv\n",
    "from datetime import datetime, timedelta\n"
   ]
  },
  {
   "cell_type": "markdown",
   "id": "cfb78637-705b-4b56-ad3e-62a30a07c680",
   "metadata": {},
   "source": [
    "# Get possible tags to find politics\n",
    "Used ChatGPT to quickly pull tags"
   ]
  },
  {
   "cell_type": "code",
   "execution_count": 4,
   "id": "283b4f8d-9ef7-4e1e-a1fd-a48ce94fc094",
   "metadata": {},
   "outputs": [
    {
     "name": "stdout",
     "output_type": "stream",
     "text": [
      "Saved 3395 tags to polymarket_tags.csv\n"
     ]
    }
   ],
   "source": [
    "import requests\n",
    "import csv\n",
    "\n",
    "# Base URL for fetching tags\n",
    "base_url = \"https://gamma-api.polymarket.com/tags\"\n",
    "\n",
    "# Pagination parameters\n",
    "offset = 0\n",
    "limit = 100  # Adjust based on API docs if necessary\n",
    "all_tags = []\n",
    "\n",
    "while True:\n",
    "    response = requests.get(base_url, params={\"offset\": offset, \"limit\": limit})\n",
    "    \n",
    "    if response.status_code != 200:\n",
    "        print(f\"Failed to retrieve tags at offset {offset}. Status code: {response.status_code}\")\n",
    "        break\n",
    "\n",
    "    tags = response.json()\n",
    "    \n",
    "    if not tags:  # Stop if no more tags are returned\n",
    "        break\n",
    "\n",
    "    all_tags.extend(tags)  # Collect tags\n",
    "    offset += limit  # Move to the next batch\n",
    "\n",
    "# Save to CSV\n",
    "csv_filename = \"polymarket_tags.csv\"\n",
    "with open(csv_filename, mode=\"w\", newline=\"\", encoding=\"utf-8\") as file:\n",
    "    writer = csv.writer(file)\n",
    "    writer.writerow([\"Tag ID\", \"Tag Name\"])  # Header row\n",
    "    for tag in all_tags:\n",
    "        tag_id = tag.get(\"id\", \"N/A\")  # Default to \"N/A\" if missing\n",
    "        tag_label = tag.get(\"label\") or tag.get(\"name\", \"Unknown\")  # Try \"label\", fallback to \"name\" or \"Unknown\"\n",
    "        \n",
    "        writer.writerow([tag_id, tag_label])\n",
    "\n",
    "print(f\"Saved {len(all_tags)} tags to {csv_filename}\")\n"
   ]
  },
  {
   "cell_type": "markdown",
   "id": "1354a163-e06c-401b-857f-742c77a4584c",
   "metadata": {},
   "source": [
    "# Pull markets\n",
    "Take all markets with politics tags since 2024 that are closed"
   ]
  },
  {
   "cell_type": "code",
   "execution_count": 40,
   "id": "04b77076-5a3c-4ddb-bd4a-88bbed14e684",
   "metadata": {},
   "outputs": [
    {
     "name": "stdout",
     "output_type": "stream",
     "text": [
      "Market oopsie:Will Joe Biden be President of the United States on June 1, 2024?\n",
      "500\n",
      "Market oopsie:Israel ground offensive in Rafah between April 13-19?\n",
      "1000\n",
      "Market oopsie:Will Biden say \"Old\" during his speech?\n",
      "Market oopsie:Will Trump say \"DJT\" or \"Donald Trump Coin\" during his Bitcoin Conference speech?\n",
      "1500\n",
      "2000\n",
      "Market oopsie:Will Kamala Harris say \"trickle-down\" during her Pennsylvania speech?\n",
      "Market oopsie:Will Kamala Harris say \"Michelle\" during her Pennsylvania speech?\n",
      "Market oopsie:Will Kamala Harris say \"middle class\" 3 or more times during her Pennsylvania speech?\n",
      "Market oopsie:Will Kamala Harris say \"frack\" during her Pennsylvania speech?\n",
      "Market oopsie:Will Kamala Harris say \"not going back\" 3 or more times during her Pennsylvania speech?\n",
      "Market oopsie:Will Kamala Harris say \"turn the page\" during her Pennsylvania speech?\n",
      "Market oopsie:Will Kamala Harris say \"new deal\" during her Pennsylvania speech?\n",
      "Market oopsie:Will Kamala Harris say \"first-time homebuyer\" during her Pennsylvania speech?\n",
      "2500\n",
      "3000\n",
      "Market oopsie:Will Trump say \"Border\" 20 or more times during Georgia rally on October 23?\n",
      "Market oopsie:Will Trump say \"Border\" 30 or more times during Georgia rally on October 23?\n",
      "Market oopsie:Will 538 call all 50 states correctly?\n",
      "Market oopsie:Will 538 call 49 states correctly?\n",
      "Market oopsie:Will 538 call 48 states correctly?\n",
      "3500\n",
      "4000\n",
      "Market oopsie:Will Trump appoint Vivek Ramaswamy for Chief of Staff?\n",
      "Market oopsie:Will Trump nominate Ray Starling for Agriculture Secretary?\n",
      "Market oopsie:Will Trump nominate another candidate for Administrator of the US Environmental Protection Agency?\n",
      "Market oopsie:Will Trump nominate another candidate for HUD Secretary?\n",
      "Market oopsie:Will Trump nominate another candidate for CDC Director?\n",
      "4500\n",
      "5000\n",
      "Market oopsie:Will Donald Trump be shown 0-2 times at the Super Bowl?\n",
      "Market oopsie:Will Donald Trump be shown 3-5 times at the Super Bowl?\n",
      "Market oopsie:Will Donald Trump be shown 6-8 times at the Super Bowl?\n",
      "Market oopsie:Will Donald Trump be shown 9-11 times at the Super Bowl?\n",
      "Market oopsie:Will Donald Trump be shown 12 or more times at the Super Bowl?\n",
      "Market oopsie:Will Donald Trump post 60-69 times on Truth Social from Feb 14-21?\n",
      "Market oopsie:Will Donald Trump post 70-79 times on Truth Social from Feb 14-21?\n",
      "Market oopsie:Will Donald Trump post 80-89 times on Truth Social from Feb 14-21?\n",
      "Market oopsie:Will Donald Trump post 90-99 times on Truth Social from Feb 14-21?\n",
      "Market oopsie:Will Donald Trump post 100-109 times on Truth Social from Feb 14-21?\n",
      "5500\n"
     ]
    }
   ],
   "source": [
    "politics_data = []\n",
    "offset = 0\n",
    "\n",
    "while offset < 10000:\n",
    "    response = requests.get(\"https://gamma-api.polymarket.com/markets\", params={\"start_date_min\":\"2024-01-16T00:00:00Z\",\n",
    "                                                                        \"closed\":\"true\",\n",
    "                                                                               \"tag_id\":2,\n",
    "                                                                                \"related_tags\":\"true\",\n",
    "                                                                               \"limit\":500,\n",
    "                                                                               \"offset\":offset})\n",
    "    result_dict = response.json()\n",
    "    \n",
    "    for market in result_dict:\n",
    "        market_dict = {}\n",
    "\n",
    "        try:\n",
    "            market_dict['conditionId'] = market['conditionId']\n",
    "            market_dict['question'] = market['question']\n",
    "            market_dict['endDate'] = market['endDate']\n",
    "            market_dict['createdAt'] = market['createdAt']\n",
    "            market_dict['closedTime'] = market['closedTime']\n",
    "            market_dict['volume'] = market['volume']\n",
    "            market_dict['outcomes'] = market['outcomes']\n",
    "            market_dict['clobTokenIds'] = json.loads(market['clobTokenIds'])\n",
    "\n",
    "        except:\n",
    "            print(f\"Market oopsie:{market_dict['question']}\")\n",
    "\n",
    "        politics_data.append(market_dict)\n",
    "\n",
    "    if not response.json():\n",
    "        break\n",
    "\n",
    "    offset+=500\n",
    "    print(offset)\n",
    "                                                                    \n",
    "                                                                    "
   ]
  },
  {
   "cell_type": "code",
   "execution_count": 4,
   "id": "1d897717-5cee-4436-a1a0-5f1569f2c495",
   "metadata": {},
   "outputs": [],
   "source": [
    "pd.DataFrame(politics_data).to_csv(\"sample.csv\", index=False)"
   ]
  },
  {
   "cell_type": "code",
   "execution_count": 24,
   "id": "635f0e62-429e-4aa9-8b77-2960b7a0c983",
   "metadata": {},
   "outputs": [
    {
     "data": {
      "text/plain": [
       "[{'question': 'Mexican Presidential Election: Will Claudia Sheinbaum win?',\n",
       "  'endDate': '2024-05-30T00:00:00Z',\n",
       "  'createdAt': '2024-01-08T17:51:23.211Z',\n",
       "  'closedTime': '2024-06-03 12:46:24+00',\n",
       "  'volume': '747925.287237',\n",
       "  'outcomes': '[\"Yes\", \"No\"]',\n",
       "  'clobTokenIds': ['6612185329411315995201911495298659700662906692479419017253589525535844894016',\n",
       "   '105101337642125497479772130530194665111546952858742124983152538530078566129631']},\n",
       " {'question': 'Mexican Presidential Election: Will Xóchitl Gálvez win?',\n",
       "  'endDate': '2024-05-30T00:00:00Z',\n",
       "  'createdAt': '2024-01-08T17:51:23.253Z',\n",
       "  'closedTime': '2024-06-03 12:56:24+00',\n",
       "  'volume': '686502.79597',\n",
       "  'outcomes': '[\"Yes\", \"No\"]',\n",
       "  'clobTokenIds': ['22630580583450969756139089277784718260497974893003428673446784801108452526510',\n",
       "   '83023413016163749793663256320711862681244617352870508189641651193199858076904']}]"
      ]
     },
     "execution_count": 24,
     "metadata": {},
     "output_type": "execute_result"
    }
   ],
   "source": [
    "politics_data[:2]"
   ]
  },
  {
   "cell_type": "markdown",
   "id": "20fd48aa-2023-4826-b622-7797f29590ce",
   "metadata": {},
   "source": [
    "## Pull other metadata\n",
    "Get previous price data and winning outcome for each event"
   ]
  },
  {
   "cell_type": "code",
   "execution_count": 53,
   "id": "7cc1e0c0-62c5-4c61-81b4-38f67258007e",
   "metadata": {},
   "outputs": [
    {
     "name": "stdout",
     "output_type": "stream",
     "text": [
      "Processing market 100\n",
      "Missing required fields for market: Will Joe Biden be President of the United States on June 1, 2024?\n",
      "Processing market 200\n",
      "Processing market 300\n",
      "Processing market 400\n",
      "Processing market 500\n",
      "Processing market 600\n",
      "Processing market 700\n",
      "Missing required fields for market: Israel ground offensive in Rafah between April 13-19?\n",
      "Processing market 800\n",
      "Processing market 900\n",
      "Processing market 1000\n",
      "Missing required fields for market: Will Biden say \"Old\" during his speech?\n",
      "Processing market 1100\n",
      "Processing market 1200\n",
      "Missing required fields for market: Will Trump say \"DJT\" or \"Donald Trump Coin\" during his Bitcoin Conference speech?\n",
      "Processing market 1300\n",
      "Processing market 1400\n",
      "Processing market 1500\n",
      "Processing market 1600\n",
      "Processing market 1700\n",
      "Processing market 1800\n",
      "Processing market 1900\n",
      "Processing market 2000\n",
      "Processing market 2100\n",
      "Processing market 2200\n",
      "Processing market 2300\n",
      "Missing required fields for market: Will Kamala Harris say \"trickle-down\" during her Pennsylvania speech?\n",
      "Missing required fields for market: Will Kamala Harris say \"Michelle\" during her Pennsylvania speech?\n",
      "Processing market 2400\n",
      "Missing required fields for market: Will Kamala Harris say \"middle class\" 3 or more times during her Pennsylvania speech?\n",
      "Missing required fields for market: Will Kamala Harris say \"frack\" during her Pennsylvania speech?\n",
      "Missing required fields for market: Will Kamala Harris say \"not going back\" 3 or more times during her Pennsylvania speech?\n",
      "Missing required fields for market: Will Kamala Harris say \"turn the page\" during her Pennsylvania speech?\n",
      "Missing required fields for market: Will Kamala Harris say \"new deal\" during her Pennsylvania speech?\n",
      "Missing required fields for market: Will Kamala Harris say \"first-time homebuyer\" during her Pennsylvania speech?\n",
      "Processing market 2500\n",
      "Processing market 2600\n",
      "Processing market 2700\n",
      "Processing market 2800\n",
      "Processing market 2900\n",
      "Processing market 3000\n",
      "Processing market 3100\n",
      "Missing required fields for market: Will Trump say \"Border\" 20 or more times during Georgia rally on October 23?\n",
      "Missing required fields for market: Will Trump say \"Border\" 30 or more times during Georgia rally on October 23?\n",
      "Processing market 3200\n",
      "Processing market 3300\n",
      "Processing market 3400\n",
      "Missing required fields for market: Will 538 call all 50 states correctly?\n",
      "Missing required fields for market: Will 538 call 49 states correctly?\n",
      "Missing required fields for market: Will 538 call 48 states correctly?\n",
      "Processing market 3500\n",
      "Processing market 3600\n",
      "Processing market 3700\n",
      "Processing market 3800\n",
      "Processing market 3900\n",
      "Processing market 4000\n",
      "Missing required fields for market: Will Trump appoint Vivek Ramaswamy for Chief of Staff?\n",
      "Missing required fields for market: Will Trump nominate Ray Starling for Agriculture Secretary?\n",
      "Missing required fields for market: Will Trump nominate another candidate for Administrator of the US Environmental Protection Agency?\n",
      "Processing market 4100\n",
      "Missing required fields for market: Will Trump nominate another candidate for HUD Secretary?\n",
      "Processing market 4200\n",
      "Processing market 4300\n",
      "Missing required fields for market: Will Trump nominate another candidate for CDC Director?\n",
      "Processing market 4400\n",
      "Processing market 4500\n",
      "Processing market 4600\n",
      "Processing market 4700\n",
      "Processing market 4800\n",
      "Processing market 4900\n",
      "Processing market 5000\n",
      "Processing market 5100\n",
      "Processing market 5200\n",
      "Missing required fields for market: Will Donald Trump be shown 0-2 times at the Super Bowl?\n",
      "Missing required fields for market: Will Donald Trump be shown 3-5 times at the Super Bowl?\n",
      "Missing required fields for market: Will Donald Trump be shown 6-8 times at the Super Bowl?\n",
      "Missing required fields for market: Will Donald Trump be shown 9-11 times at the Super Bowl?\n",
      "Missing required fields for market: Will Donald Trump be shown 12 or more times at the Super Bowl?\n",
      "Processing market 5300\n",
      "Missing required fields for market: Will Donald Trump post 60-69 times on Truth Social from Feb 14-21?\n",
      "Missing required fields for market: Will Donald Trump post 70-79 times on Truth Social from Feb 14-21?\n",
      "Missing required fields for market: Will Donald Trump post 80-89 times on Truth Social from Feb 14-21?\n",
      "Missing required fields for market: Will Donald Trump post 90-99 times on Truth Social from Feb 14-21?\n",
      "Missing required fields for market: Will Donald Trump post 100-109 times on Truth Social from Feb 14-21?\n"
     ]
    }
   ],
   "source": [
    "counter =0\n",
    "updated_markets = politics_data\n",
    "for market in updated_markets:\n",
    "    counter += 1\n",
    "    if counter % 100 == 0:\n",
    "        print(f\"Processing market {counter}\")\n",
    "        \n",
    "    # Add new lists to store prices for each outcome\n",
    "    market['prev_prices'] = []\n",
    "    \n",
    "    # Check if market has the required fields\n",
    "    if 'clobTokenIds' not in market or 'outcomes' not in market:\n",
    "        print(f\"Missing required fields for market: {market.get('question', 'Unknown')}\")\n",
    "        continue\n",
    "        \n",
    "    # Safely get token IDs\n",
    "    token_ids = market['clobTokenIds']\n",
    "    if not token_ids:  # Check if empty\n",
    "        print(f\"No token IDs for market: {market.get('question', 'Unknown')}\")\n",
    "        continue\n",
    "        \n",
    "    for token_id in token_ids:\n",
    "        try:       \n",
    "            # Make the API request\n",
    "            response = requests.get(\n",
    "                \"https://clob.polymarket.com/prices-history\",\n",
    "                params={\n",
    "                    \"market\": token_id,\n",
    "                    \"interval\": \"max\",\n",
    "                    \"fidelity\": 1440\n",
    "                },\n",
    "                timeout=10  # Add timeout to prevent hanging\n",
    "            )\n",
    "            \n",
    "            # Check if request was successful\n",
    "            response.raise_for_status()\n",
    "            \n",
    "            price_data = response.json()\n",
    "            \n",
    "            # Check if we have enough history data\n",
    "            if len(price_data['history']) >= 2:\n",
    "                prev_price = price_data['history'][-2]['p']\n",
    "            else:\n",
    "                prev_price = None\n",
    "                \n",
    "            market['prev_prices'].append(prev_price)\n",
    "            \n",
    "        except requests.exceptions.RequestException as e:\n",
    "            print(f\"Error fetching data for market: {market['question']}\")\n",
    "            print(f\"Token ID: {token_id}\")\n",
    "            print(f\"Error: {str(e)}\")\n",
    "            market['prev_prices'].append(None)\n",
    "            continue\n",
    "            \n",
    "    try:\n",
    "        # Get market data using condition_id\n",
    "        response = requests.get(f\"https://clob.polymarket.com/markets/{market['conditionId']}\")\n",
    "        market_data = response.json()\n",
    "    except:\n",
    "        print(f\"No request id for {market['question']}\")\n",
    "        \n",
    "    # Find the winning token\n",
    "    for token in market_data['tokens']:\n",
    "        if token['winner'] == True: \n",
    "            market['winning_token_id'] = token['token_id']\n",
    "            market['winning_outcome'] = token['outcome']\n"
   ]
  },
  {
   "cell_type": "markdown",
   "id": "d03ff1ff-4c27-4c18-9e48-42515e3ecb4d",
   "metadata": {},
   "source": [
    "## Write to CSV"
   ]
  },
  {
   "cell_type": "code",
   "execution_count": 55,
   "id": "e76377ba-eb82-4693-93cc-58c45e2c0204",
   "metadata": {},
   "outputs": [],
   "source": [
    "pd.DataFrame(updated_markets).to_csv(\"raw_pull.csv\")"
   ]
  },
  {
   "cell_type": "code",
   "execution_count": 94,
   "id": "a918508d-7338-45e4-b5eb-52698b4d69f2",
   "metadata": {},
   "outputs": [
    {
     "data": {
      "text/plain": [
       "'83023413016163749793663256320711862681244617352870508189641651193199858076904'"
      ]
     },
     "execution_count": 94,
     "metadata": {},
     "output_type": "execute_result"
    }
   ],
   "source": [
    "updated_markets[1]['winning_token_id']"
   ]
  },
  {
   "cell_type": "markdown",
   "id": "40a81f23-9542-4fe9-a875-b3b0b474a598",
   "metadata": {},
   "source": [
    "## Clean dictionary\n",
    "\n",
    "Get new keys with winning outcomes, price of actual outcome and other characteristics for analysis"
   ]
  },
  {
   "cell_type": "code",
   "execution_count": 106,
   "id": "74dc3978-f061-4269-b9b1-76e56c1fb661",
   "metadata": {},
   "outputs": [],
   "source": [
    "for entry in updated_markets:\n",
    "    if 'winning_token_id' in entry:\n",
    "        if entry['winning_token_id'] in entry['clobTokenIds']:\n",
    "            winning_index = entry['clobTokenIds'].index(entry['winning_token_id'])\n",
    "        else:\n",
    "            winning_index = -1  # If the winning_outcome is not in outcomes, set index to -1 (error case)\n",
    "    \n",
    "        # Only add correct_prediction if the winning_index is valid\n",
    "        if winning_index != -1 and None  not in entry['prev_prices']:\n",
    "            try:\n",
    "                entry['correct_prediction'] = entry['prev_prices'][winning_index] > 0.5\n",
    "                entry['prediction_price'] = entry['prev_prices'][winning_index]\n",
    "\n",
    "            except:\n",
    "                print(entry)\n",
    "        else:\n",
    "            entry['correct_prediction'] = None  # Handle the error case\n",
    "\n",
    "     \n"
   ]
  },
  {
   "cell_type": "code",
   "execution_count": 107,
   "id": "9ff1554b-f23c-42bf-b558-fe33822a66b5",
   "metadata": {},
   "outputs": [],
   "source": [
    "# output to CSV\n",
    "pd.DataFrame(updated_markets).to_csv(\"outcomes.csv\", index=False)"
   ]
  }
 ],
 "metadata": {
  "kernelspec": {
   "display_name": "Python 3 (ipykernel)",
   "language": "python",
   "name": "python3"
  },
  "language_info": {
   "codemirror_mode": {
    "name": "ipython",
    "version": 3
   },
   "file_extension": ".py",
   "mimetype": "text/x-python",
   "name": "python",
   "nbconvert_exporter": "python",
   "pygments_lexer": "ipython3",
   "version": "3.12.7"
  }
 },
 "nbformat": 4,
 "nbformat_minor": 5
}
